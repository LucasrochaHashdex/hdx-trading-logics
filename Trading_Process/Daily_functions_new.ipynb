{
 "cells": [
  {
   "cell_type": "code",
   "execution_count": 1,
   "metadata": {},
   "outputs": [
    {
     "name": "stderr",
     "output_type": "stream",
     "text": [
      "c:\\Users\\lucas.afonso_hashdex\\AppData\\Local\\Programs\\Python\\Python312\\Lib\\site-packages\\google\\auth\\_default.py:76: UserWarning: Your application has authenticated using end user credentials from Google Cloud SDK without a quota project. You might receive a \"quota exceeded\" or \"API not enabled\" error. See the following page for troubleshooting: https://cloud.google.com/docs/authentication/adc-troubleshooting/user-creds. \n",
      "  warnings.warn(_CLOUD_SDK_CREDENTIALS_WARNING)\n",
      "c:\\Users\\lucas.afonso_hashdex\\AppData\\Local\\Programs\\Python\\Python312\\Lib\\site-packages\\google\\auth\\_default.py:76: UserWarning: Your application has authenticated using end user credentials from Google Cloud SDK without a quota project. You might receive a \"quota exceeded\" or \"API not enabled\" error. See the following page for troubleshooting: https://cloud.google.com/docs/authentication/adc-troubleshooting/user-creds. \n",
      "  warnings.warn(_CLOUD_SDK_CREDENTIALS_WARNING)\n",
      "c:\\Users\\lucas.afonso_hashdex\\AppData\\Local\\Programs\\Python\\Python312\\Lib\\site-packages\\google\\auth\\_default.py:76: UserWarning: Your application has authenticated using end user credentials from Google Cloud SDK without a quota project. You might receive a \"quota exceeded\" or \"API not enabled\" error. See the following page for troubleshooting: https://cloud.google.com/docs/authentication/adc-troubleshooting/user-creds. \n",
      "  warnings.warn(_CLOUD_SDK_CREDENTIALS_WARNING)\n"
     ]
    },
    {
     "name": "stdout",
     "output_type": "stream",
     "text": [
      "✅ Trading workflow ready!\n"
     ]
    }
   ],
   "source": [
    "# =============================================================================\n",
    "# 🚀 Daily Trading Functions - Condensed Version\n",
    "# =============================================================================\n",
    "\n",
    "import sys, os, pandas as pd, numpy as np\n",
    "from datetime import datetime, date\n",
    "import requests, json\n",
    "\n",
    "# Add path and import modules\n",
    "sys.path.append('./src')\n",
    "\n",
    "from utilities.Trading_routines_functions import TradingWorkflowManager\n",
    "from utilities.Email_sender import EmailManager\n",
    "from utilities.Auxiliar_function import save_secondary_allocation_trades\n",
    "# Basic config\n",
    "PROJECT_ID = \"hdx-data-platform\"\n",
    "API_SECRET = \"hdx-routines-secret\"\n",
    "ALL_ETFS = [\"HASH11\", \"SOLH11\", \"BITH11\", \"ETHE11\", \"XRPH11\", \"DEFI11\", \"WEB311\", \"META11\", \"FOMO11\"]\n",
    "\n",
    "# Initialize managers\n",
    "workflow_manager = TradingWorkflowManager(API_SECRET)\n",
    "email_manager = EmailManager()\n",
    "\n",
    "# Email functions\n",
    "def send_initial_email(result):\n",
    "    return email_manager.send_initial_orders_email(result)\n",
    "\n",
    "def send_adjustment_email(result, iteration=0):\n",
    "    return email_manager.send_adjustment_email(result, iteration)\n",
    "\n",
    "# Workflow functions\n",
    "def run_initial_orders():\n",
    "    result = workflow_manager.run_initial_orders()\n",
    "    send_initial_email(result)\n",
    "    return result\n",
    "\n",
    "def run_primary_calculation():\n",
    "    return workflow_manager.run_primary_calculation()\n",
    "\n",
    "def run_adjustment_cycle(max_iterations=3):\n",
    "    result = workflow_manager.run_adjustment_cycle(max_iterations)\n",
    "    send_adjustment_email(result)\n",
    "    return result\n",
    "\n",
    "def complete_workflow():\n",
    "    return workflow_manager.complete_adjustment_workflow()\n",
    "\n",
    "print(\"✅ Trading workflow ready!\")"
   ]
  },
  {
   "cell_type": "code",
   "execution_count": 11,
   "metadata": {},
   "outputs": [
    {
     "name": "stdout",
     "output_type": "stream",
     "text": [
      "🌅 === MORNING ROUTINE: Initial Orders ===\n",
      "=== Step 1: Initial Orders ===\n",
      "Generated 2 initial order sentences\n",
      "✅ Initial Orders executadas com sucesso!\n",
      "\n",
      "📧 Prepare to send initial orders email to ets@xpi.com.br\n",
      "============================================================\n",
      "📧 EMAIL PREVIEW\n",
      "============================================================\n",
      "From: lucas.afonso@hashdex.com\n",
      "To: ets@xpi.com.br\n",
      "CC: trading@hashdex.com, operations@hashdex.com\n",
      "Subject: Hashdex <> XP B3 Orders - 2025-06-24\n",
      "----------------------------------------\n",
      "Body (HTML):\n",
      "\n",
      "        <h2>📈 Initial Orders - Morning Routine</h2>\n",
      "        <p><strong>Date:</strong> 2025-06-24</p>\n",
      "        <p><strong>Total Orders:</strong> 2</p>\n",
      "        \n",
      "        <hr>\n",
      "        \n",
      "        <h3>🎯 ORDENS ESPECÍFICAS</h3>\n",
      "        <p>1. Favor iniciar uma venda de BITH11 até R$ 3.090.000,00, até 30 bps abaixo do justo</p>\n",
      "<p>2. Favor iniciar uma venda de HASH11 até R$ 7.599.000,00, até 30 bps abaixo do justo</p>\n",
      "\n",
      "        \n",
      "        <h3>📋 Observações:</h3>\n",
      "        <p><strong>Obs: Favor executar as ordens como um TWAP até as 12:40</strong></p>\n",
      "\n",
      "        <br>\n",
      "        <p>---------------------------------------------------</p>\n",
      "        <p><em>Investment Management Team</em><br>\n",
      "        Hashdex.com.br</p>\n",
      "        <p>---------------------------------------------------</p>\n",
      "\n",
      "        <hr>\n",
      "        <p><em>Generated automatically by Trading Workflow Manager</em></p>\n",
      "        \n",
      "============================================================\n",
      "📤 Sending email...\n",
      "✅ Email sent successfully to ets@xpi.com.br\n",
      "📋 CC sent to: trading@hashdex.com, operations@hashdex.com\n",
      "✅ Initial orders workflow completed with email notification\n"
     ]
    },
    {
     "data": {
      "text/plain": [
       "True"
      ]
     },
     "execution_count": 11,
     "metadata": {},
     "output_type": "execute_result"
    }
   ],
   "source": [
    "def run_initial_orders():\n",
    "    \"\"\"\n",
    "    🌅 Morning - Initial Orders\n",
    "    - Gera ordens de trading iniciais\n",
    "    - Cria instruções por email para traders\n",
    "    - Organiza trades onshore/offshore\n",
    "    \"\"\"\n",
    "    print(\"🌅 === MORNING ROUTINE: Initial Orders ===\")\n",
    "    \n",
    "    try:\n",
    "        result = workflow_manager.run_initial_orders()\n",
    "        print(\"✅ Initial Orders executadas com sucesso!\")\n",
    "        return result\n",
    "    except Exception as e:\n",
    "        print(f\"❌ Erro ao executar Initial Orders: {e}\")\n",
    "        return {\"status\": \"error\", \"message\": str(e)}\n",
    "\n",
    "\n",
    "result_initial = run_initial_orders()\n",
    "\n",
    "send_initial_email(result_initial)"
   ]
  },
  {
   "cell_type": "code",
   "execution_count": 13,
   "metadata": {},
   "outputs": [
    {
     "name": "stdout",
     "output_type": "stream",
     "text": [
      "🏭 === MID-DAY ROUTINE: Primary Calculation (NASDAQ) ===\n",
      "🔄 Loading fresh trading data...\n",
      "\n",
      "=== Step 2: Primary Units Calculation ===\n",
      "Calculating primaries for NASDAQ: ['HASH11', 'SOLH11', 'BITH11', 'ETHE11', 'XRPH11']\n",
      "Using on_shore_trades with 6 total records\n",
      "Filtered trades: 6 -> 6 records\n",
      "Relevant funds: 8 funds have assets from selected category\n",
      "Loaded CNPJ mapping for 10 funds\n"
     ]
    },
    {
     "name": "stderr",
     "output_type": "stream",
     "text": [
      "c:\\Users\\lucas.afonso_hashdex\\AppData\\Local\\Programs\\Python\\Python312\\Lib\\site-packages\\google\\auth\\_default.py:76: UserWarning: Your application has authenticated using end user credentials from Google Cloud SDK without a quota project. You might receive a \"quota exceeded\" or \"API not enabled\" error. See the following page for troubleshooting: https://cloud.google.com/docs/authentication/adc-troubleshooting/user-creds. \n",
      "  warnings.warn(_CLOUD_SDK_CREDENTIALS_WARNING)\n"
     ]
    },
    {
     "name": "stdout",
     "output_type": "stream",
     "text": [
      "\n",
      "Ready to upload primary units to BigQuery (GCP):\n",
      "  - HC II -: 3 units of HASH11 (Venda)\n",
      "  - HDA I -: 2 units of HASH11 (Venda)\n",
      "  - Hashdex 100 Nasdaq: 1 units of HASH11 (Venda)\n"
     ]
    },
    {
     "name": "stderr",
     "output_type": "stream",
     "text": [
      "1it [00:04,  4.84s/it]"
     ]
    },
    {
     "name": "stdout",
     "output_type": "stream",
     "text": [
      "Successfully saved 3 records to BigQuery\n",
      "Primary units calculated and saved\n",
      "✅ Primary Calculation executada com sucesso!\n"
     ]
    },
    {
     "name": "stderr",
     "output_type": "stream",
     "text": [
      "\n"
     ]
    }
   ],
   "source": [
    "def run_primary_calculation(primary_type='nasdaq'):\n",
    "    \"\"\"\n",
    "    🏭 Mid-day - Primary Units\n",
    "    - Calcula alocações ótimas de unidades primárias\n",
    "    - Salva dados no BigQuery\n",
    "    - Gera requisições de unidades primárias\n",
    "    \n",
    "    Args:\n",
    "        primary_type: 'thematics' or 'nasdaq'\n",
    "    \"\"\"\n",
    "    print(f\"🏭 === MID-DAY ROUTINE: Primary Calculation ({primary_type.upper()}) ===\")\n",
    "    \n",
    "    try:\n",
    "        result = workflow_manager.run_primary_calculation(primary_type=primary_type)\n",
    "        print(\"✅ Primary Calculation executada com sucesso!\")\n",
    "        return result\n",
    "    except Exception as e:\n",
    "        print(f\"❌ Erro ao executar Primary Calculation: {e}\")\n",
    "        return {\"status\": \"error\", \"message\": str(e)}\n",
    "\n",
    "# For Thematics ETFs: DEFI11, WEB311, META11, FOMO11\n",
    "# result_thematics = run_primary_calculation('thematics')\n",
    "\n",
    "# For Nasdaq ETFs: HASH11, SOLH11, BITH11, ETHE11, XRPH11\n",
    "result_nasdaq = run_primary_calculation('nasdaq')\n",
    "\n"
   ]
  },
  {
   "cell_type": "code",
   "execution_count": 14,
   "metadata": {},
   "outputs": [
    {
     "data": {
      "text/plain": [
       "{'primary_data': {'saved_data':                              fund_name           fund_cnpj   asset  side  \\\n",
       "  2                          HC II - FIM  35.001.472/0001-43  HASH11  SELL   \n",
       "  1                          HDA I - FIM  33.736.782/0001-80  HASH11  SELL   \n",
       "  0  Hashdex 100 Nasdaq Crypto Index FIM  33.736.845/0001-07  HASH11  SELL   \n",
       "  \n",
       "     primary_units request_date  \n",
       "  2              3   2025-06-24  \n",
       "  1              2   2025-06-24  \n",
       "  0              1   2025-06-24  ,\n",
       "  'sentences': ['For HC II - FIM (CNPJ: 35.001.472/0001-43): Redemption of 3 units of HASH11 @ R$ 3.555.000,00',\n",
       "   'For HDA I - FIM (CNPJ: 33.736.782/0001-80): Redemption of 2 units of HASH11 @ R$ 2.370.000,00',\n",
       "   'For Hashdex 100 Nasdaq Crypto Index FIM (CNPJ: 33.736.845/0001-07): Redemption of 1 units of HASH11 @ R$ 1.185.000,00'],\n",
       "  'allocation_df':                                   Fund                CNPJ   Asset  Side  \\\n",
       "  5                        HBTC I FIM IE  38.167.819/0001-10  BITH11  SELL   \n",
       "  2                          HC II - FIM  35.001.472/0001-43  HASH11  SELL   \n",
       "  1                          HDA I - FIM  33.736.782/0001-80  HASH11  SELL   \n",
       "  0  Hashdex 100 Nasdaq Crypto Index FIM  33.736.845/0001-07  HASH11  SELL   \n",
       "  3       Hashdex Crypto Long Biased FIM  47.612.160/0001-55  HASH11  SELL   \n",
       "  4         Hashdex Crypto Selection FIM  45.604.913/0001-55  HASH11  SELL   \n",
       "  \n",
       "     Qty_Allocation  Qty_Primary  Price_Executed  Financial_Allocation  \\\n",
       "  5           23364            0      132.252169          3.089940e+06   \n",
       "  2            4660            3       75.828259          3.533597e+05   \n",
       "  1               0            2       75.828259          0.000000e+00   \n",
       "  0               0            1       75.828259          0.000000e+00   \n",
       "  3            7216            0       75.828259          5.471767e+05   \n",
       "  4            1001            0       75.828259          7.590409e+04   \n",
       "  \n",
       "     Financial_Primary  Target_Amount  Total_Executed  Adjustment_Needed  \\\n",
       "  5       0.000000e+00        3090000    3.089940e+06          60.320000   \n",
       "  2       3.426508e+06        4165000    3.779868e+06      385132.154608   \n",
       "  1       2.284339e+06        1822000    2.284339e+06     -462338.772577   \n",
       "  0       1.142169e+06         909000    1.142169e+06     -233169.386288   \n",
       "  3       0.000000e+00         553000    5.471767e+05        5823.283697   \n",
       "  4       0.000000e+00         150000    7.590409e+04       74095.912830   \n",
       "  \n",
       "            Error   Strategy  \n",
       "  5  3.810708e-10  MainOrder  \n",
       "  2  8.550461e-03  MainOrder  \n",
       "  1  6.439081e-02  MainOrder  \n",
       "  0  6.579839e-02  MainOrder  \n",
       "  3  1.108883e-04  MainOrder  \n",
       "  4  2.440091e-01  MainOrder  }}"
      ]
     },
     "execution_count": 14,
     "metadata": {},
     "output_type": "execute_result"
    }
   ],
   "source": [
    "result_nasdaq"
   ]
  },
  {
   "cell_type": "code",
   "execution_count": 4,
   "metadata": {},
   "outputs": [
    {
     "name": "stdout",
     "output_type": "stream",
     "text": [
      "🔄 === AFTERNOON ROUTINE: Adjustment Cycle (max 1) ===\n",
      "\n",
      "=== Step 3: Adjustment Cycles ===\n",
      "Loaded CNPJ mapping for 10 funds\n",
      "\n",
      "=== Adjustment Iteration 1 ===\n"
     ]
    },
    {
     "name": "stderr",
     "output_type": "stream",
     "text": [
      "c:\\Users\\lucas.afonso_hashdex\\AppData\\Local\\Programs\\Python\\Python312\\Lib\\site-packages\\google\\auth\\_default.py:76: UserWarning: Your application has authenticated using end user credentials from Google Cloud SDK without a quota project. You might receive a \"quota exceeded\" or \"API not enabled\" error. See the following page for troubleshooting: https://cloud.google.com/docs/authentication/adc-troubleshooting/user-creds. \n",
      "  warnings.warn(_CLOUD_SDK_CREDENTIALS_WARNING)\n"
     ]
    },
    {
     "name": "stdout",
     "output_type": "stream",
     "text": [
      "Loaded 3 primary units records from GCP\n"
     ]
    },
    {
     "name": "stderr",
     "output_type": "stream",
     "text": [
      "g:\\Drives compartilhados\\Investment Management\\Trading_Process\\src\\utilities\\Solver_Allocation.py:92: RuntimeWarning: divide by zero encountered in divide\n",
      "  self.target_values / self.price_executed\n",
      "g:\\Drives compartilhados\\Investment Management\\Trading_Process\\src\\utilities\\Solver_Allocation.py:93: RuntimeWarning: invalid value encountered in cast\n",
      "  ).astype(int)\n"
     ]
    },
    {
     "name": "stdout",
     "output_type": "stream",
     "text": [
      "Zero or invalid inputs detected. Returning zero allocation.\n"
     ]
    },
    {
     "name": "stderr",
     "output_type": "stream",
     "text": [
      "g:\\Drives compartilhados\\Investment Management\\Trading_Process\\src\\utilities\\Solver_Allocation.py:92: RuntimeWarning: divide by zero encountered in divide\n",
      "  self.target_values / self.price_executed\n",
      "g:\\Drives compartilhados\\Investment Management\\Trading_Process\\src\\utilities\\Solver_Allocation.py:93: RuntimeWarning: invalid value encountered in cast\n",
      "  ).astype(int)\n"
     ]
    },
    {
     "name": "stdout",
     "output_type": "stream",
     "text": [
      "Zero or invalid inputs detected. Returning zero allocation.\n"
     ]
    },
    {
     "name": "stderr",
     "output_type": "stream",
     "text": [
      "g:\\Drives compartilhados\\Investment Management\\Trading_Process\\src\\utilities\\Solver_Allocation.py:92: RuntimeWarning: divide by zero encountered in divide\n",
      "  self.target_values / self.price_executed\n",
      "g:\\Drives compartilhados\\Investment Management\\Trading_Process\\src\\utilities\\Solver_Allocation.py:93: RuntimeWarning: invalid value encountered in cast\n",
      "  ).astype(int)\n",
      "c:\\Users\\lucas.afonso_hashdex\\AppData\\Local\\Programs\\Python\\Python312\\Lib\\site-packages\\google\\auth\\_default.py:76: UserWarning: Your application has authenticated using end user credentials from Google Cloud SDK without a quota project. You might receive a \"quota exceeded\" or \"API not enabled\" error. See the following page for troubleshooting: https://cloud.google.com/docs/authentication/adc-troubleshooting/user-creds. \n",
      "  warnings.warn(_CLOUD_SDK_CREDENTIALS_WARNING)\n"
     ]
    },
    {
     "name": "stdout",
     "output_type": "stream",
     "text": [
      "Zero or invalid inputs detected. Returning zero allocation.\n",
      "Generated 4 adjustment orders\n",
      "Loaded 3 primary units records from GCP\n",
      "Error using solver for HASH11 SELL: HTTPSConnectionPool(host='api2.hashdex.io', port=443): Max retries exceeded with url: /marketdata/v2/inav/HASH11 (Caused by NameResolutionError(\"<urllib3.connection.HTTPSConnection object at 0x0000020E2BB59D90>: Failed to resolve 'api2.hashdex.io' ([Errno 11004] getaddrinfo failed)\"))\n",
      "Error using solver for BITH11 SELL: HTTPSConnectionPool(host='api2.hashdex.io', port=443): Max retries exceeded with url: /marketdata/v2/inav/HASH11 (Caused by NameResolutionError(\"<urllib3.connection.HTTPSConnection object at 0x0000020E2BB5A570>: Failed to resolve 'api2.hashdex.io' ([Errno 11001] getaddrinfo failed)\"))\n",
      "Error using solver for ETHE11 BUY: HTTPSConnectionPool(host='api2.hashdex.io', port=443): Max retries exceeded with url: /marketdata/v2/inav/HASH11 (Caused by NameResolutionError(\"<urllib3.connection.HTTPSConnection object at 0x0000020E2B382630>: Failed to resolve 'api2.hashdex.io' ([Errno 11001] getaddrinfo failed)\"))\n",
      "✅ No more significant adjustments needed\n",
      "✅ No adjustment iterations needed\n",
      "❌ Erro ao executar Adjustment Cycle: Could not connect to the endpoint URL: \"https://portal.sso.us-east-1.amazonaws.com/federation/credentials?role_name=PortfolioManager&account_id=485468864057\"\n"
     ]
    }
   ],
   "source": [
    "def run_adjustment_cycle(max_iterations=3):\n",
    "    \"\"\"\n",
    "    🔄 Afternoon - Adjustments\n",
    "    - Executa ciclos iterativos de ajuste\n",
    "    - Monitora execução vs targets\n",
    "    - Gera instruções de ajuste\n",
    "    \"\"\"\n",
    "    print(f\"🔄 === AFTERNOON ROUTINE: Adjustment Cycle (max {max_iterations}) ===\")\n",
    "    \n",
    "    try:\n",
    "        result = workflow_manager.run_adjustment_cycle(max_iterations)\n",
    "        print(\"✅ Adjustment Cycle executado com sucesso!\")\n",
    "        return result\n",
    "\n",
    "    except Exception as e:\n",
    "        print(f\"❌ Erro ao executar Adjustment Cycle: {e}\")\n",
    "        return {\"status\": \"error\", \"message\": str(e)}\n",
    "\n",
    "\n",
    "adjustmentcycle1 = run_adjustment_cycle(1)\n",
    "\n",
    "# send_adjustment_email(adjustmentcycle1)"
   ]
  },
  {
   "cell_type": "code",
   "execution_count": 5,
   "metadata": {},
   "outputs": [
    {
     "data": {
      "text/plain": [
       "{'status': 'error',\n",
       " 'message': 'Could not connect to the endpoint URL: \"https://portal.sso.us-east-1.amazonaws.com/federation/credentials?role_name=PortfolioManager&account_id=485468864057\"'}"
      ]
     },
     "execution_count": 5,
     "metadata": {},
     "output_type": "execute_result"
    }
   ],
   "source": [
    "adjustmentcycle1"
   ]
  },
  {
   "cell_type": "code",
   "execution_count": 6,
   "metadata": {},
   "outputs": [
    {
     "data": {
      "text/plain": [
       "{'adjustment_results': [{'iteration': 1,\n",
       "   'email_body': \"Trading Adjustment Instructions\\n\\nObs: Favor verificar na tabela abaixo o que já foi executado e usar a coluna 'Diff target - exec' como parâmetro para as ordens\\nObs2: Favor não entrar com essas ordens no leilão, paramos no final do mercado\\n\\nETF <compra>\\tFinanceiro target\\tFinanceiro exec.\\tDiff target - exec.\\nHASH11\\tR$ 0.00\\tR$ 0.00\\tR$ 0.00\\nSOLH11\\tR$ 0.00\\tR$ 0.00\\tR$ 0.00\\nBITH11\\tR$ 0.00\\tR$ 0.00\\tR$ 0.00\\nETHE11\\tR$ 21.000.00\\tR$ 0.00\\tR$ 21.000.00\\nXRPH11\\tR$ 0.00\\tR$ 0.00\\tR$ 0.00\\nDEFI11\\tR$ 0.00\\tR$ 0.00\\tR$ 0.00\\nWEB311\\tR$ 0.00\\tR$ 0.00\\tR$ 0.00\\nMETA11\\tR$ 0.00\\tR$ 0.00\\tR$ 0.00\\nFOMO11\\tR$ 0.00\\tR$ 0.00\\tR$ 0.00\\n\\nETF <venda>\\tFinanceiro target\\tFinanceiro exec.\\tDiff target - exec.\\nHASH11\\tR$ 1.259.590.55\\tR$ 976.440.49\\tR$ 283.150.06\\nSOLH11\\tR$ 0.00\\tR$ 0.00\\tR$ 0.00\\nBITH11\\tR$ 0.00\\tR$ 3.089.939.68\\tR$ -3.089.939.68\\nETHE11\\tR$ 0.00\\tR$ 0.00\\tR$ 0.00\\nXRPH11\\tR$ 0.00\\tR$ 0.00\\tR$ 0.00\\nDEFI11\\tR$ 0.00\\tR$ 0.00\\tR$ 0.00\\nWEB311\\tR$ 0.00\\tR$ 0.00\\tR$ 0.00\\nMETA11\\tR$ 0.00\\tR$ 0.00\\tR$ 0.00\\nFOMO11\\tR$ 0.00\\tR$ 0.00\\tR$ 0.00\\n\\n=== ORDENS ESPECÍFICAS ===\\n1. Favor iniciar uma venda de HASH11 até R$ 433.300.00. até 30 bps abaixo do justo\\n2. Favor iniciar uma compra de HASH11 até R$ 727.300.00. até 30 bps acima do justo\\n3. Favor iniciar uma venda de ETHE11 até R$ 21.000.00. até 30 bps abaixo do justo\\n\",\n",
       "   'full_allocation':                              Fund                CNPJ   Asset  Side  \\\n",
       "   1            Hashdex Ethereum FIM  44.417.431/0001-23  ETHE11   BUY   \n",
       "   2                     HC II - FIM  35.001.472/0001-43  HASH11  SELL   \n",
       "   3  Hashdex Crypto Long Biased FIM  47.612.160/0001-55  HASH11  SELL   \n",
       "   \n",
       "      Qty_Allocation  Qty_Primary  Price_Executed  Financial_Allocation  \\\n",
       "   1               0          0.0        0.000000              0.000000   \n",
       "   2            3712          3.0       75.828259         281474.497079   \n",
       "   3            7194          0.0       75.828259         545508.494607   \n",
       "   \n",
       "      Financial_Primary  Target_Value  Target_to_Adjustment     Error  \\\n",
       "   1       0.000000e+00       21000.0          21000.000000  0.000000   \n",
       "   2       3.458409e+06     4165000.0         425116.049623  0.010418   \n",
       "   3       0.000000e+00      553000.0           7491.505393  0.000184   \n",
       "   \n",
       "             Strategy  \n",
       "   1  AdjustmentOrder  \n",
       "   2  AdjustmentOrder  \n",
       "   3  AdjustmentOrder  ,\n",
       "   'total_allocation_df':                                   Fund                CNPJ   Asset  Side  \\\n",
       "   0  Hashdex 100 Nasdaq Crypto Index FIM  33.736.845/0001-07  HASH11  SELL   \n",
       "   1                          HDA I - FIM  33.736.782/0001-80  HASH11  SELL   \n",
       "   2                          HC II - FIM  35.001.472/0001-43  HASH11  SELL   \n",
       "   3       Hashdex Crypto Long Biased FIM  47.612.160/0001-55  HASH11  SELL   \n",
       "   4         Hashdex Crypto Selection FIM  45.604.913/0001-55  HASH11  SELL   \n",
       "   5                        HBTC I FIM IE  38.167.819/0001-10  BITH11  SELL   \n",
       "   6                 Hashdex Ethereum FIM  44.417.431/0001-23  ETHE11   BUY   \n",
       "   \n",
       "      Qty_Allocation  Qty_Primary  Price_Executed  Financial_Allocation  \\\n",
       "   0               0            1       75.828259          0.000000e+00   \n",
       "   1               0            2       75.828259          0.000000e+00   \n",
       "   2            3712            3       75.828259          2.814745e+05   \n",
       "   3            7194            0       75.828259          5.455085e+05   \n",
       "   4            1971            0       75.828259          1.494575e+05   \n",
       "   5           23364            0      132.252169          3.089940e+06   \n",
       "   6               0            0        0.000000          0.000000e+00   \n",
       "   \n",
       "      Financial_Primary  Target_Amount  Total_Executed  Adjustment_Needed  \\\n",
       "   0       1.152753e+06       909000.0    1.152753e+06     -243752.901015   \n",
       "   1       2.305506e+06      1822000.0    2.305506e+06     -483505.802031   \n",
       "   2       3.458259e+06      4165000.0    3.739733e+06      425266.799875   \n",
       "   3       0.000000e+00       553000.0    5.455085e+05        7491.505393   \n",
       "   4       0.000000e+00       150000.0    1.494575e+05         542.501686   \n",
       "   5       0.000000e+00      3090000.0    3.089940e+06          60.320000   \n",
       "   6       0.000000e+00        21000.0    0.000000e+00       21000.000000   \n",
       "   \n",
       "             Error         Strategy  \n",
       "   0  7.190711e-02  AdjustmentOrder  \n",
       "   1  7.042172e-02  AdjustmentOrder  \n",
       "   2  1.042541e-02  AdjustmentOrder  \n",
       "   3  1.835219e-04  AdjustmentOrder  \n",
       "   4  1.308036e-05  AdjustmentOrder  \n",
       "   5  3.810708e-10  AdjustmentOrder  \n",
       "   6  0.000000e+00  AdjustmentOrder  ,\n",
       "   'executed_trades_snapshot':      CONTA       CONTA_NOME SIDE   ATIVO  QTY. AVAILABLE   AVG_PRICE  \\\n",
       "   0  2881086  HASHDEX_GESTORA    V  BITH11           23364  132.252169   \n",
       "   1  2881086  HASHDEX_GESTORA    V  HASH11           12877   75.828259   \n",
       "   \n",
       "      Financeiro  \n",
       "   0  3089939.68  \n",
       "   1   976440.49  }]}"
      ]
     },
     "execution_count": 6,
     "metadata": {},
     "output_type": "execute_result"
    }
   ],
   "source": [
    "adjustmentcycle1"
   ]
  },
  {
   "cell_type": "code",
   "execution_count": 5,
   "metadata": {},
   "outputs": [
    {
     "name": "stdout",
     "output_type": "stream",
     "text": [
      "\n",
      "📧 Prepare to send adjustment email to ets@xpi.com.br\n",
      "============================================================\n",
      "📧 EMAIL PREVIEW\n",
      "============================================================\n",
      "From: lucas.afonso@hashdex.com\n",
      "To: ets@xpi.com.br\n",
      "CC: trading@hashdex.com, operations@hashdex.com\n",
      "Subject: Hashdex <> XP B3 Adjustment - 2025-06-24\n",
      "----------------------------------------\n",
      "Body (HTML):\n",
      "\n",
      "        <h2>📊 Trading Adjustment Instructions</h2>\n",
      "        <p><strong>Date:</strong> 2025-06-24</p>\n",
      "        <p><strong>Iteration:</strong> 1</p>\n",
      "        \n",
      "        <hr>\n",
      "        \n",
      "        <p>Trading Adjustment Instructions</p>\n",
      "<h3>🎯 ORDENS ESPECÍFICAS</h3>\n",
      "<p>1. Favor iniciar uma venda de HASH11 até R$ 461.400.00. até 30 bps abaixo do justo<br>2. Favor iniciar uma compra de HASH11 até R$ 720.200.00. até 30 bps acima do justo</p>\n",
      "<h3>📋 Observações:</h3>\n",
      "<p><strong>Obs: Favor verificar na tabela abaixo o que já foi executado e usar a coluna 'Diff target - exec' como parâmetro para as ordens</strong></p>\n",
      "<p><strong>Obs2: Favor não entrar com essas ordens no leilão, paramos no final do mercado</strong></p>\n",
      "<p><strong>Obs3: Favor executar um TWAP até 15:30</strong></p>\n",
      "<table border=\"1\" style=\"border-collapse: collapse; margin: 10px 0; width: 100%;\">\n",
      "  <thead style=\"background-color: #f0f0f0;\">\n",
      "    <tr>\n",
      "      <th style=\"padding: 8px; text-align: left;\">ETF <compra></th>\n",
      "      <th style=\"padding: 8px; text-align: left;\">Financeiro target</th>\n",
      "      <th style=\"padding: 8px; text-align: left;\">Financeiro exec.</th>\n",
      "      <th style=\"padding: 8px; text-align: left;\">Diff target - exec.</th>\n",
      "    </tr>\n",
      "  </thead>\n",
      "  <tbody>\n",
      "    <tr>\n",
      "      <td style=\"padding: 8px;\">HASH11</td>\n",
      "      <td style=\"padding: 8px;\">R$ 0.00</td>\n",
      "      <td style=\"padding: 8px;\">R$ 0.00</td>\n",
      "      <td style=\"padding: 8px;\">R$ 0.00</td>\n",
      "    </tr>\n",
      "    <tr>\n",
      "      <td style=\"padding: 8px;\">SOLH11</td>\n",
      "      <td style=\"padding: 8px;\">R$ 0.00</td>\n",
      "      <td style=\"padding: 8px;\">R$ 0.00</td>\n",
      "      <td style=\"padding: 8px;\">R$ 0.00</td>\n",
      "    </tr>\n",
      "    <tr>\n",
      "      <td style=\"padding: 8px;\">BITH11</td>\n",
      "      <td style=\"padding: 8px;\">R$ 0.00</td>\n",
      "      <td style=\"padding: 8px;\">R$ 0.00</td>\n",
      "      <td style=\"padding: 8px;\">R$ 0.00</td>\n",
      "    </tr>\n",
      "    <tr>\n",
      "      <td style=\"padding: 8px;\">ETHE11</td>\n",
      "      <td style=\"padding: 8px;\">R$ 21.000.00</td>\n",
      "      <td style=\"padding: 8px;\">R$ 0.00</td>\n",
      "      <td style=\"padding: 8px;\">R$ 21.000.00</td>\n",
      "    </tr>\n",
      "    <tr>\n",
      "      <td style=\"padding: 8px;\">XRPH11</td>\n",
      "      <td style=\"padding: 8px;\">R$ 0.00</td>\n",
      "      <td style=\"padding: 8px;\">R$ 0.00</td>\n",
      "      <td style=\"padding: 8px;\">R$ 0.00</td>\n",
      "    </tr>\n",
      "    <tr>\n",
      "      <td style=\"padding: 8px;\">DEFI11</td>\n",
      "      <td style=\"padding: 8px;\">R$ 0.00</td>\n",
      "      <td style=\"padding: 8px;\">R$ 0.00</td>\n",
      "      <td style=\"padding: 8px;\">R$ 0.00</td>\n",
      "    </tr>\n",
      "    <tr>\n",
      "      <td style=\"padding: 8px;\">WEB311</td>\n",
      "      <td style=\"padding: 8px;\">R$ 0.00</td>\n",
      "      <td style=\"padding: 8px;\">R$ 0.00</td>\n",
      "      <td style=\"padding: 8px;\">R$ 0.00</td>\n",
      "    </tr>\n",
      "    <tr>\n",
      "      <td style=\"padding: 8px;\">META11</td>\n",
      "      <td style=\"padding: 8px;\">R$ 0.00</td>\n",
      "      <td style=\"padding: 8px;\">R$ 0.00</td>\n",
      "      <td style=\"padding: 8px;\">R$ 0.00</td>\n",
      "    </tr>\n",
      "    <tr>\n",
      "      <td style=\"padding: 8px;\">FOMO11</td>\n",
      "      <td style=\"padding: 8px;\">R$ 0.00</td>\n",
      "      <td style=\"padding: 8px;\">R$ 0.00</td>\n",
      "      <td style=\"padding: 8px;\">R$ 0.00</td>\n",
      "    </tr>\n",
      "  </tbody>\n",
      "</table>\n",
      "\n",
      "<table border=\"1\" style=\"border-collapse: collapse; margin: 10px 0; width: 100%;\">\n",
      "  <thead style=\"background-color: #f0f0f0;\">\n",
      "    <tr>\n",
      "      <th style=\"padding: 8px; text-align: left;\">ETF <venda></th>\n",
      "      <th style=\"padding: 8px; text-align: left;\">Financeiro target</th>\n",
      "      <th style=\"padding: 8px; text-align: left;\">Financeiro exec.</th>\n",
      "      <th style=\"padding: 8px; text-align: left;\">Diff target - exec.</th>\n",
      "    </tr>\n",
      "  </thead>\n",
      "  <tbody>\n",
      "    <tr>\n",
      "      <td style=\"padding: 8px;\">HASH11</td>\n",
      "      <td style=\"padding: 8px;\">R$ 1.267.899.61</td>\n",
      "      <td style=\"padding: 8px;\">R$ 976.440.49</td>\n",
      "      <td style=\"padding: 8px;\">R$ 291.459.12</td>\n",
      "    </tr>\n",
      "    <tr>\n",
      "      <td style=\"padding: 8px;\">SOLH11</td>\n",
      "      <td style=\"padding: 8px;\">R$ 0.00</td>\n",
      "      <td style=\"padding: 8px;\">R$ 0.00</td>\n",
      "      <td style=\"padding: 8px;\">R$ 0.00</td>\n",
      "    </tr>\n",
      "    <tr>\n",
      "      <td style=\"padding: 8px;\">BITH11</td>\n",
      "      <td style=\"padding: 8px;\">R$ 0.00</td>\n",
      "      <td style=\"padding: 8px;\">R$ 3.089.939.68</td>\n",
      "      <td style=\"padding: 8px;\">R$ -3.089.939.68</td>\n",
      "    </tr>\n",
      "    <tr>\n",
      "      <td style=\"padding: 8px;\">ETHE11</td>\n",
      "      <td style=\"padding: 8px;\">R$ 0.00</td>\n",
      "      <td style=\"padding: 8px;\">R$ 0.00</td>\n",
      "      <td style=\"padding: 8px;\">R$ 0.00</td>\n",
      "    </tr>\n",
      "    <tr>\n",
      "      <td style=\"padding: 8px;\">XRPH11</td>\n",
      "      <td style=\"padding: 8px;\">R$ 0.00</td>\n",
      "      <td style=\"padding: 8px;\">R$ 0.00</td>\n",
      "      <td style=\"padding: 8px;\">R$ 0.00</td>\n",
      "    </tr>\n",
      "    <tr>\n",
      "      <td style=\"padding: 8px;\">DEFI11</td>\n",
      "      <td style=\"padding: 8px;\">R$ 0.00</td>\n",
      "      <td style=\"padding: 8px;\">R$ 0.00</td>\n",
      "      <td style=\"padding: 8px;\">R$ 0.00</td>\n",
      "    </tr>\n",
      "    <tr>\n",
      "      <td style=\"padding: 8px;\">WEB311</td>\n",
      "      <td style=\"padding: 8px;\">R$ 0.00</td>\n",
      "      <td style=\"padding: 8px;\">R$ 0.00</td>\n",
      "      <td style=\"padding: 8px;\">R$ 0.00</td>\n",
      "    </tr>\n",
      "    <tr>\n",
      "      <td style=\"padding: 8px;\">META11</td>\n",
      "      <td style=\"padding: 8px;\">R$ 0.00</td>\n",
      "      <td style=\"padding: 8px;\">R$ 0.00</td>\n",
      "      <td style=\"padding: 8px;\">R$ 0.00</td>\n",
      "    </tr>\n",
      "    <tr>\n",
      "      <td style=\"padding: 8px;\">FOMO11</td>\n",
      "      <td style=\"padding: 8px;\">R$ 0.00</td>\n",
      "      <td style=\"padding: 8px;\">R$ 0.00</td>\n",
      "      <td style=\"padding: 8px;\">R$ 0.00</td>\n",
      "    </tr>\n",
      "  </tbody>\n",
      "</table>\n",
      "\n",
      "        \n",
      "        <br><br>\n",
      "        <p>-------------------------------</p>\n",
      "        <p><em>Investment Management Team</em><br>\n",
      "        Hashdex.com.br</p>\n",
      "        <p>--------------------------------</p>\n",
      "        \n",
      "        <hr>\n",
      "        <p><em>Generated automatically by Trading Workflow Manager</em></p>\n",
      "        \n",
      "============================================================\n",
      "❌ Email cancelled by user\n",
      "ℹ️ Adjustment email cancelled\n"
     ]
    },
    {
     "data": {
      "text/plain": [
       "False"
      ]
     },
     "execution_count": 5,
     "metadata": {},
     "output_type": "execute_result"
    }
   ],
   "source": [
    "send_adjustment_email(adjustmentcycle1)"
   ]
  },
  {
   "cell_type": "code",
   "execution_count": 3,
   "metadata": {},
   "outputs": [
    {
     "name": "stdout",
     "output_type": "stream",
     "text": [
      "🎯 === END OF DAY: Actual Executed Trades Allocation ===\n",
      "🎯 === ALLOCATING ACTUAL EXECUTED TRADES ===\n",
      "\n",
      "📊 Actual Executed Trades:\n",
      "  SIDE   ATIVO  QTY. AVAILABLE   AVG_PRICE  Financeiro\n",
      "0    V  BITH11           23364  132.252169  3089939.68\n",
      "1    V  HASH11           12877   75.828259   976440.49\n"
     ]
    },
    {
     "name": "stderr",
     "output_type": "stream",
     "text": [
      "c:\\Users\\lucas.afonso_hashdex\\AppData\\Local\\Programs\\Python\\Python312\\Lib\\site-packages\\google\\auth\\_default.py:76: UserWarning: Your application has authenticated using end user credentials from Google Cloud SDK without a quota project. You might receive a \"quota exceeded\" or \"API not enabled\" error. See the following page for troubleshooting: https://cloud.google.com/docs/authentication/adc-troubleshooting/user-creds. \n",
      "  warnings.warn(_CLOUD_SDK_CREDENTIALS_WARNING)\n"
     ]
    },
    {
     "name": "stdout",
     "output_type": "stream",
     "text": [
      "Loaded 3 primary units records from GCP\n",
      "\n",
      "🔧 Allocating: 23364 units of BITH11 (SELL) @ R$ 132.25\n",
      "✅ Allocated 23364 units across 1 funds\n",
      "\n",
      "🔧 Allocating: 12877 units of HASH11 (SELL) @ R$ 75.83\n",
      "Warning: Some funds have primary allocation exceeding target value\n",
      "✅ Allocated 12877 units across 3 funds\n",
      "\n",
      "📋 FINAL ALLOCATION SUMMARY (CONSOLIDATED):\n",
      "Total allocation records after consolidation: 4\n",
      "Records before consolidation: 4\n",
      "  - BITH11: 23364 units (Venda)\n",
      "  - HASH11: 12877 units (Venda)\n",
      "\n",
      "Ready to upload secondary allocation trades to BigQuery (GCP):\n",
      "Date: 2025-06-24\n",
      "Total records: 4\n",
      "\n",
      "Summary by Asset and Side:\n",
      "  - BITH11: 23364 units (Venda)\n",
      "  - HASH11: 12877 units (Venda)\n",
      "\n",
      "Detailed allocation:\n",
      "  - HBTC I FIM: 23364 units of BITH11 (Venda)\n",
      "  - HC II -: 3712 units of HASH11 (Venda)\n",
      "  - Hashdex Crypto Long: 7194 units of HASH11 (Venda)\n",
      "  - Hashdex Crypto Selection: 1971 units of HASH11 (Venda)\n"
     ]
    },
    {
     "name": "stderr",
     "output_type": "stream",
     "text": [
      "c:\\Users\\lucas.afonso_hashdex\\AppData\\Local\\Programs\\Python\\Python312\\Lib\\site-packages\\google\\auth\\_default.py:76: UserWarning: Your application has authenticated using end user credentials from Google Cloud SDK without a quota project. You might receive a \"quota exceeded\" or \"API not enabled\" error. See the following page for troubleshooting: https://cloud.google.com/docs/authentication/adc-troubleshooting/user-creds. \n",
      "  warnings.warn(_CLOUD_SDK_CREDENTIALS_WARNING)\n",
      "1it [00:04,  4.72s/it]"
     ]
    },
    {
     "name": "stdout",
     "output_type": "stream",
     "text": [
      "Successfully saved 4 records to BigQuery\n",
      "Successfully saved CSV to: G:\\Drives compartilhados\\Ops-Trading\\Onshore\\CSV B3 gestora - Executed Trades by fund\\aloc_trading_2025-06-24.csv\n",
      "✅ Allocation completed and saved!\n"
     ]
    },
    {
     "name": "stderr",
     "output_type": "stream",
     "text": [
      "\n"
     ]
    }
   ],
   "source": [
    "def complete_adjustment_workflow():\n",
    "    \"\"\"\n",
    "    🎯 End of Day - Final Allocation (Actual Executed Trades Only)\n",
    "    - Aloca apenas trades realmente executados\n",
    "    - Usa solver para distribuição otimizada\n",
    "    - Salva alocações finais\n",
    "    \"\"\"\n",
    "    print(\"🎯 === END OF DAY: Actual Executed Trades Allocation ===\")\n",
    "    \n",
    "    try:\n",
    "        result = workflow_manager.allocate_actual_executed_trades()\n",
    "        \n",
    "        if result['status'] == 'success' and not result['broker_orders'].empty:\n",
    "            # Save to BigQuery\n",
    "            save_secondary_allocation_trades(result['broker_orders'])\n",
    "            print(\"✅ Allocation completed and saved!\")\n",
    "        else:\n",
    "            print(f\"⚠️ Status: {result['status']}\")\n",
    "            \n",
    "        return result\n",
    "    except Exception as e:\n",
    "        print(f\"❌ Erro ao executar allocation: {e}\")\n",
    "        return {\"status\": \"error\", \"message\": str(e)}\n",
    "\n",
    "final_result = complete_adjustment_workflow()\n",
    "\n",
    "# print(\"✅ Funções do workflow diário definidas!\")"
   ]
  },
  {
   "cell_type": "code",
   "execution_count": 4,
   "metadata": {},
   "outputs": [
    {
     "data": {
      "text/plain": [
       "{'status': 'success',\n",
       " 'broker_orders':    trade_date   asset side  asset_amount exchange_code  \\\n",
       " 0  2025-06-24  BITH11    V         23364        XP (3)   \n",
       " 1  2025-06-24  HASH11    V          3712        XP (3)   \n",
       " 2  2025-06-24  HASH11    V          7194        XP (3)   \n",
       " 3  2025-06-24  HASH11    V          1971        XP (3)   \n",
       " \n",
       "                              fund                cnpj  \n",
       " 0                   HBTC I FIM IE  38.167.819/0001-10  \n",
       " 1                     HC II - FIM  35.001.472/0001-43  \n",
       " 2  Hashdex Crypto Long Biased FIM  47.612.160/0001-55  \n",
       " 3    Hashdex Crypto Selection FIM  45.604.913/0001-55  ,\n",
       " 'trades_processed': 2,\n",
       " 'allocations_created': 4}"
      ]
     },
     "execution_count": 4,
     "metadata": {},
     "output_type": "execute_result"
    }
   ],
   "source": [
    "final_result"
   ]
  },
  {
   "cell_type": "code",
   "execution_count": null,
   "metadata": {},
   "outputs": [],
   "source": []
  }
 ],
 "metadata": {
  "kernelspec": {
   "display_name": "Python 3",
   "language": "python",
   "name": "python3"
  },
  "language_info": {
   "codemirror_mode": {
    "name": "ipython",
    "version": 3
   },
   "file_extension": ".py",
   "mimetype": "text/x-python",
   "name": "python",
   "nbconvert_exporter": "python",
   "pygments_lexer": "ipython3",
   "version": "3.13.3"
  }
 },
 "nbformat": 4,
 "nbformat_minor": 2
}
